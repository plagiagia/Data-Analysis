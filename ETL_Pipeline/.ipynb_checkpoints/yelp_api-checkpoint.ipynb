{
 "cells": [
  {
   "cell_type": "markdown",
   "id": "modified-monitor",
   "metadata": {},
   "source": [
    "# Portfolio Project: Berlin Restaurants\n",
    "\n",
    "For this Data analysis project, I used the [YELP-FUSION](https://www.yelp.com/developers/documentation/v3) API to extract the restaurants based in the urban area of [Berlin](https://www.yelp.de/berlin) with all the information that comes with it. This project showcases the ETL process that is followed for each data-based project. \n",
    "\n",
    "\n",
    "## Enter Pipeline\n",
    "\n",
    "The solution to this problem is a data pipeline. Like a physical pipeline system that drives the flow of any material\n",
    "from the source to the destination, a data pipeline comes to transfer the flow of data from any source to the desired\n",
    "destination. But not only that, it can make all the necessary transformations -while transferring the data- so the data reach their destination in the desired format and ready to be analyzed.\n",
    "\n",
    "<p align=\"center\">\n",
    "    <img alt=\"Pipeline\" src=\"https://mermaid.ink/img/eyJjb2RlIjoiXG5ncmFwaCBURFxuc3ViZ3JhcGggRGVzdGluYXRpb25cbkUoRGF0YSBXYXJlaG91c2UpXG5lbmRcbkEoQ2xvdWQgQnVja2V0KSAtLVBpcGVsaW5lLS0-IEVcbkIoTW9iaWxlIEFwcCkgLS1QaXBlbGluZS0tPiBFXG5DKEFQSSkgLS1QaXBlbGluZS0tPiBFXG5EKExvY2FsIERhdGFiYW5rKSAtLVBpcGVsaW5lLS0-IEVcblxuIiwibWVybWFpZCI6eyJ0aGVtZSI6ImRlZmF1bHQifSwidXBkYXRlRWRpdG9yIjpmYWxzZX0\">\n",
    "</p>\n",
    "\n",
    "For this project, the source is just an API and the destination would be a Postgres SQL database. So the pipeline for this project would look like this\n",
    "\n",
    "<p align=\"center\">\n",
    "    <img alt=\"Pipeline\" src=\"https://mermaid.ink/img/eyJjb2RlIjoiZ3JhcGggTFJcbnN1YmdyYXBoIERlc3RpbmF0aW9uXG5DKFNRTCBEQilcbmVuZFxuc3ViZ3JhcGggRVRMXG5Ce1RyYW5zb3JtYXRpb25zfVxuZW5kXG5zdWJncmFwaCBTb3VyY2VcbkEoQVBJKVxuZW5kXG5BLS1QaXBlbGluZS0tPiBCXG5CLS1QaXBlbGluZS0tPkNcbiIsIm1lcm1haWQiOnsidGhlbWUiOiJkZWZhdWx0In0sInVwZGF0ZUVkaXRvciI6ZmFsc2V9\">\n",
    "</p>\n",
    "\n",
    "\n",
    "Each API lets us make some GET/POST requests and sends back to us a payload with the appropriate information depending on what we send it. The logic behind each API is the same but each one uses a unique style of commands that need to be sent with each request to receive the correct response.\n",
    "\n",
    "Yelp's API has the following format\n",
    "\n",
    "```python\n",
    " response = requests.get(api_url, params=params, headers=headers)\n",
    "```\n",
    "\n",
    "In the params dictionary, we have to define what do we want to look for, for this case it would be the following\n",
    "\n",
    "```python\n",
    "params = {\"term\": \"restaurants\",\n",
    "          \"location\": \"berlin\"}\n",
    "```\n",
    "\n",
    "Passing to the key terms: `term`:`restaurants` and `location`:`Berlin`, we ask the API to look for the term restaurants located in Berlin. \n",
    "\n",
    "The request is almost ready, it requires more information. Although it's a public API, someone must be registered to use the API. After registration you will receive a KEY, this key should be passed to the request with the following text into the headers like this\n",
    "\n",
    "```python\n",
    "headers = {\"Authorization\": \"Bearer {}\".format(api_key)}\n",
    "```\n",
    "\n",
    "\n",
    "\n",
    "\n",
    "\n",
    "\n",
    "\n"
   ]
  },
  {
   "cell_type": "markdown",
   "id": "developing-thermal",
   "metadata": {},
   "source": [
    "<div class=\"list-group\" id=\"list-tab\" role=\"tablist\">\n",
    "    <h3 class=\"list-group-item list-group-item-action active\" data-toggle=\"list\" role=\"tab\" aria-controls=\"home\">\n",
    "        Notebook Content!</h3>\n",
    "    <a class=\"list-group-item list-group-item-action\" data-toggle=\"list\" href=\"#libraries\" role=\"tab\"\n",
    "        aria-controls=\"profile\">Import Libraries<span class=\"badge badge-primary badge-pill\">1</span></a>\n",
    "    <a class=\"list-group-item list-group-item-action\" data-toggle=\"list\" href=\"#connect-API\" role=\"tab\"\n",
    "        aria-controls=\"profile\">Connect to the API <span class=\"badge badge-primary badge-pill\">2</span></a>\n",
    "    <a class=\"list-group-item list-group-item-action\" data-toggle=\"list\" href=\"#connect-db\" role=\"tab\"\n",
    "        aria-controls=\"messages\">Connect to the SQL Database<span\n",
    "            class=\"badge badge-primary badge-pill\">3</span></a>\n",
    "    <a class=\"list-group-item list-group-item-action\" data-toggle=\"list\" href=\"#data-cleaning\" role=\"tab\"\n",
    "        aria-controls=\"messages\">Data Cleaning<span\n",
    "            class=\"badge badge-primary badge-pill\">4</span></a>\n",
    "    <a class=\"list-group-item list-group-item-action\" data-toggle=\"list\" href=\"#sales-analysis\" role=\"tab\"\n",
    "        aria-controls=\"messages\">Data Analysis<span\n",
    "            class=\"badge badge-primary badge-pill\">5</span></a>\n",
    "    <a class=\"list-group-item list-group-item-action\" data-toggle=\"list\" href=\"#final-coclusion\" role=\"tab\"\n",
    "        aria-controls=\"messages\">Conclusion<span\n",
    "            class=\"badge badge-primary badge-pill\">5</span></a>\n",
    "</div>"
   ]
  },
  {
   "cell_type": "markdown",
   "id": "sorted-window",
   "metadata": {},
   "source": [
    "### Import libraries and set constants  <a name='libraries'  href='#list-tab'><span>🔼</span></a>"
   ]
  },
  {
   "cell_type": "code",
   "execution_count": 1,
   "id": "stock-gentleman",
   "metadata": {},
   "outputs": [
    {
     "data": {
      "application/javascript": [
       "\n",
       "            setTimeout(function() {\n",
       "                var nbb_cell_id = 1;\n",
       "                var nbb_unformatted_code = \"# Libraries\\nimport os\\nimport psycopg2\\nimport requests\\nimport numpy as np\\nimport pandas as pd\\nfrom IPython.display import display\\nfrom pandas import json_normalize\\nfrom sqlalchemy import create_engine\\n\\n%load_ext nb_black\";\n",
       "                var nbb_formatted_code = \"# Libraries\\nimport os\\nimport psycopg2\\nimport requests\\nimport numpy as np\\nimport pandas as pd\\nfrom IPython.display import display\\nfrom pandas import json_normalize\\nfrom sqlalchemy import create_engine\\n\\n%load_ext nb_black\";\n",
       "                var nbb_cells = Jupyter.notebook.get_cells();\n",
       "                for (var i = 0; i < nbb_cells.length; ++i) {\n",
       "                    if (nbb_cells[i].input_prompt_number == nbb_cell_id) {\n",
       "                        if (nbb_cells[i].get_text() == nbb_unformatted_code) {\n",
       "                             nbb_cells[i].set_text(nbb_formatted_code);\n",
       "                        }\n",
       "                        break;\n",
       "                    }\n",
       "                }\n",
       "            }, 500);\n",
       "            "
      ],
      "text/plain": [
       "<IPython.core.display.Javascript object>"
      ]
     },
     "metadata": {},
     "output_type": "display_data"
    }
   ],
   "source": [
    "# Libraries\n",
    "import os\n",
    "import psycopg2\n",
    "import requests\n",
    "import numpy as np\n",
    "import pandas as pd\n",
    "from IPython.display import display\n",
    "from pandas import json_normalize\n",
    "from sqlalchemy import create_engine\n",
    "\n",
    "%load_ext nb_black"
   ]
  },
  {
   "cell_type": "markdown",
   "id": "caring-trigger",
   "metadata": {},
   "source": [
    "### Connect to the API   <a name='connect-API'  href='#list-tab'><span>🔼</span></a>"
   ]
  },
  {
   "cell_type": "markdown",
   "id": "plain-sullivan",
   "metadata": {},
   "source": [
    "As was said before, to make a request we need some credentials it is wise not to share in public projects. There a lot of ways to hide this from the public. I will demonstrate two of them.\n",
    "\n",
    "**Extract credentials to the environment**\n",
    "\n",
    "This way demands the creation of a bat file with all the commands needed to set a variable to the local environment, after doing that it is easy to retrieve this information in our code without fear of revealing it to the public.\n",
    "\n",
    "*.bat file\n",
    ">```cmd\n",
    ">set API_KEY = 'my-private-key'\n",
    ">```\n",
    "\n",
    "Run the file\n",
    ">```cmd\n",
    ">my_bat.bat\n",
    ">```\n",
    "\n",
    "**Make a file and import it in your project**\n",
    "\n",
    "This way is kind of more pythonic. It takes only the creation of a new file where each variable will have the values of some value needed for our project and has to stay private.\n",
    "\n",
    "environment_consts.py file\n",
    ">```python\n",
    ">API_KEY = 'api key'\n",
    ">```\n",
    "\n",
    "Project file\n",
    ">```python\n",
    ">from environment_consts import API_KEY\n",
    ">```\n"
   ]
  },
  {
   "cell_type": "code",
   "execution_count": 2,
   "id": "eastern-agenda",
   "metadata": {},
   "outputs": [
    {
     "data": {
      "application/javascript": [
       "\n",
       "            setTimeout(function() {\n",
       "                var nbb_cell_id = 2;\n",
       "                var nbb_unformatted_code = \"# Set the values\\nimport constants\\n\\nos.environ[\\\"API_KEY\\\"] = constants.API_KEY\\nos.environ[\\\"HOST\\\"] = constants.HOST\\nos.environ[\\\"DATABASE_NAME\\\"] = constants.DATABASE_NAME\\nos.environ[\\\"DB_USER\\\"] = constants.DB_USER\\nos.environ[\\\"DB_PASSWORD\\\"] = constants.DB_PASSWORD\";\n",
       "                var nbb_formatted_code = \"# Set the values\\nimport constants\\n\\nos.environ[\\\"API_KEY\\\"] = constants.API_KEY\\nos.environ[\\\"HOST\\\"] = constants.HOST\\nos.environ[\\\"DATABASE_NAME\\\"] = constants.DATABASE_NAME\\nos.environ[\\\"DB_USER\\\"] = constants.DB_USER\\nos.environ[\\\"DB_PASSWORD\\\"] = constants.DB_PASSWORD\";\n",
       "                var nbb_cells = Jupyter.notebook.get_cells();\n",
       "                for (var i = 0; i < nbb_cells.length; ++i) {\n",
       "                    if (nbb_cells[i].input_prompt_number == nbb_cell_id) {\n",
       "                        if (nbb_cells[i].get_text() == nbb_unformatted_code) {\n",
       "                             nbb_cells[i].set_text(nbb_formatted_code);\n",
       "                        }\n",
       "                        break;\n",
       "                    }\n",
       "                }\n",
       "            }, 500);\n",
       "            "
      ],
      "text/plain": [
       "<IPython.core.display.Javascript object>"
      ]
     },
     "metadata": {},
     "output_type": "display_data"
    }
   ],
   "source": [
    "# Set the values\n",
    "import constants\n",
    "\n",
    "os.environ[\"API_KEY\"] = constants.API_KEY\n",
    "os.environ[\"HOST\"] = constants.HOST\n",
    "os.environ[\"DATABASE_NAME\"] = constants.DATABASE_NAME\n",
    "os.environ[\"DB_USER\"] = constants.DB_USER\n",
    "os.environ[\"DB_PASSWORD\"] = constants.DB_PASSWORD"
   ]
  },
  {
   "cell_type": "code",
   "execution_count": 3,
   "id": "former-census",
   "metadata": {},
   "outputs": [
    {
     "data": {
      "application/javascript": [
       "\n",
       "            setTimeout(function() {\n",
       "                var nbb_cell_id = 3;\n",
       "                var nbb_unformatted_code = \"api_url = \\\"https://api.yelp.com/v3/businesses/search\\\"\\nparams = {\\\"term\\\": \\\"restaurants\\\", \\\"location\\\": \\\"berlin\\\"}\\napi_key = os.environ.get(\\\"API_KEY\\\", \\\"\\\")\\nheaders = {\\\"Authorization\\\": \\\"Bearer {}\\\".format(api_key)}\\n\\n\\ndef extract_data(offset=[0]):\\n    \\\"\\\"\\\"\\n    Makes GET requests to the API and recieves restaurants back, each call returns around 20 entries, \\n    thats why we use the offset parameter to take different number of responses each time.\\n    \\n    :returns: data_list, a list which each element is a json format entry with information about restaurants\\n    \\\"\\\"\\\"\\n\\n    data_list = []\\n\\n    print(\\\"Extracting data from the API...\\\")\\n    for each in offset:\\n        params[\\\"offset\\\"] = each\\n        response = requests.get(api_url, params=params, headers=headers)\\n        data = response.json()\\n        data_list.append(data)\\n\\n    return data_list\";\n",
       "                var nbb_formatted_code = \"api_url = \\\"https://api.yelp.com/v3/businesses/search\\\"\\nparams = {\\\"term\\\": \\\"restaurants\\\", \\\"location\\\": \\\"berlin\\\"}\\napi_key = os.environ.get(\\\"API_KEY\\\", \\\"\\\")\\nheaders = {\\\"Authorization\\\": \\\"Bearer {}\\\".format(api_key)}\\n\\n\\ndef extract_data(offset=[0]):\\n    \\\"\\\"\\\"\\n    Makes GET requests to the API and recieves restaurants back, each call returns around 20 entries, \\n    thats why we use the offset parameter to take different number of responses each time.\\n    \\n    :returns: data_list, a list which each element is a json format entry with information about restaurants\\n    \\\"\\\"\\\"\\n\\n    data_list = []\\n\\n    print(\\\"Extracting data from the API...\\\")\\n    for each in offset:\\n        params[\\\"offset\\\"] = each\\n        response = requests.get(api_url, params=params, headers=headers)\\n        data = response.json()\\n        data_list.append(data)\\n\\n    return data_list\";\n",
       "                var nbb_cells = Jupyter.notebook.get_cells();\n",
       "                for (var i = 0; i < nbb_cells.length; ++i) {\n",
       "                    if (nbb_cells[i].input_prompt_number == nbb_cell_id) {\n",
       "                        if (nbb_cells[i].get_text() == nbb_unformatted_code) {\n",
       "                             nbb_cells[i].set_text(nbb_formatted_code);\n",
       "                        }\n",
       "                        break;\n",
       "                    }\n",
       "                }\n",
       "            }, 500);\n",
       "            "
      ],
      "text/plain": [
       "<IPython.core.display.Javascript object>"
      ]
     },
     "metadata": {},
     "output_type": "display_data"
    }
   ],
   "source": [
    "api_url = \"https://api.yelp.com/v3/businesses/search\"\n",
    "params = {\"term\": \"restaurants\", \"location\": \"berlin\"}\n",
    "api_key = os.environ.get(\"API_KEY\", \"\")\n",
    "headers = {\"Authorization\": \"Bearer {}\".format(api_key)}\n",
    "\n",
    "\n",
    "def extract_data(offset=[0]):\n",
    "    \"\"\"\n",
    "    Makes GET requests to the API and recieves restaurants back, each call returns around 20 entries, \n",
    "    thats why we use the offset parameter to take different number of responses each time.\n",
    "    \n",
    "    :returns: data_list, a list which each element is a json format entry with information about restaurants\n",
    "    \"\"\"\n",
    "\n",
    "    data_list = []\n",
    "\n",
    "    print(\"Extracting data from the API...\")\n",
    "    for each in offset:\n",
    "        params[\"offset\"] = each\n",
    "        response = requests.get(api_url, params=params, headers=headers)\n",
    "        data = response.json()\n",
    "        data_list.append(data)\n",
    "\n",
    "    return data_list"
   ]
  },
  {
   "cell_type": "code",
   "execution_count": 13,
   "id": "interested-freedom",
   "metadata": {},
   "outputs": [
    {
     "name": "stdout",
     "output_type": "stream",
     "text": [
      "Extracting data from the API...\n"
     ]
    },
    {
     "data": {
      "application/javascript": [
       "\n",
       "            setTimeout(function() {\n",
       "                var nbb_cell_id = 13;\n",
       "                var nbb_unformatted_code = \"# Call the function\\nrestaurants = extract_data(offset=list(range(0, 240, 20)))\";\n",
       "                var nbb_formatted_code = \"# Call the function\\nrestaurants = extract_data(offset=list(range(0, 240, 20)))\";\n",
       "                var nbb_cells = Jupyter.notebook.get_cells();\n",
       "                for (var i = 0; i < nbb_cells.length; ++i) {\n",
       "                    if (nbb_cells[i].input_prompt_number == nbb_cell_id) {\n",
       "                        if (nbb_cells[i].get_text() == nbb_unformatted_code) {\n",
       "                             nbb_cells[i].set_text(nbb_formatted_code);\n",
       "                        }\n",
       "                        break;\n",
       "                    }\n",
       "                }\n",
       "            }, 500);\n",
       "            "
      ],
      "text/plain": [
       "<IPython.core.display.Javascript object>"
      ]
     },
     "metadata": {},
     "output_type": "display_data"
    }
   ],
   "source": [
    "# Call the function\n",
    "restaurants = extract_data(offset=list(range(0, 240, 20)))\n"
   ]
  },
  {
   "cell_type": "code",
   "execution_count": 14,
   "id": "danish-output",
   "metadata": {
    "scrolled": false
   },
   "outputs": [
    {
     "name": "stdout",
     "output_type": "stream",
     "text": [
      "Lenght of the list: 12\n",
      "\n",
      "First entry:\n"
     ]
    },
    {
     "data": {
      "text/plain": [
       "{'id': '8uBE9ZgfZOM2z_Rllw478Q',\n",
       " 'alias': 'stadtklause-berlin',\n",
       " 'name': 'Stadtklause',\n",
       " 'image_url': 'https://s3-media3.fl.yelpcdn.com/bphoto/vqFLzToYyFfAoYKlBRq0jA/o.jpg',\n",
       " 'is_closed': False,\n",
       " 'url': 'https://www.yelp.com/biz/stadtklause-berlin?adjust_creative=N9q5J26XY3aaHLZrjJ7g7g&utm_campaign=yelp_api_v3&utm_medium=api_v3_business_search&utm_source=N9q5J26XY3aaHLZrjJ7g7g',\n",
       " 'review_count': 172,\n",
       " 'categories': [{'alias': 'german', 'title': 'German'}],\n",
       " 'rating': 4.5,\n",
       " 'coordinates': {'latitude': 52.504779, 'longitude': 13.380618},\n",
       " 'transactions': [],\n",
       " 'price': '€',\n",
       " 'location': {'address1': 'Bernburger Str. 35',\n",
       "  'address2': '',\n",
       "  'address3': None,\n",
       "  'city': 'Berlin',\n",
       "  'zip_code': '10963',\n",
       "  'country': 'DE',\n",
       "  'state': 'BE',\n",
       "  'display_address': ['Bernburger Str. 35', '10963 Berlin', 'Germany']},\n",
       " 'phone': '+493051056381',\n",
       " 'display_phone': '+49 30 51056381',\n",
       " 'distance': 2205.244050414826}"
      ]
     },
     "execution_count": 14,
     "metadata": {},
     "output_type": "execute_result"
    },
    {
     "data": {
      "application/javascript": [
       "\n",
       "            setTimeout(function() {\n",
       "                var nbb_cell_id = 14;\n",
       "                var nbb_unformatted_code = \"print(f\\\"Lenght of the list: {len(restaurants)}\\\")\\nprint()\\nprint(\\\"First entry:\\\")\\n(restaurants[0][\\\"businesses\\\"][0])\";\n",
       "                var nbb_formatted_code = \"print(f\\\"Lenght of the list: {len(restaurants)}\\\")\\nprint()\\nprint(\\\"First entry:\\\")\\n(restaurants[0][\\\"businesses\\\"][0])\";\n",
       "                var nbb_cells = Jupyter.notebook.get_cells();\n",
       "                for (var i = 0; i < nbb_cells.length; ++i) {\n",
       "                    if (nbb_cells[i].input_prompt_number == nbb_cell_id) {\n",
       "                        if (nbb_cells[i].get_text() == nbb_unformatted_code) {\n",
       "                             nbb_cells[i].set_text(nbb_formatted_code);\n",
       "                        }\n",
       "                        break;\n",
       "                    }\n",
       "                }\n",
       "            }, 500);\n",
       "            "
      ],
      "text/plain": [
       "<IPython.core.display.Javascript object>"
      ]
     },
     "metadata": {},
     "output_type": "display_data"
    }
   ],
   "source": [
    "print(f\"Lenght of the list: {len(restaurants)}\")\n",
    "print()\n",
    "print(\"First entry:\")\n",
    "(restaurants[0][\"businesses\"][0])"
   ]
  },
  {
   "cell_type": "markdown",
   "id": "athletic-member",
   "metadata": {},
   "source": [
    "We see that each entry has a dictionary format. Now it's time to extract from this dictionary the information we need. We can manage this with the `json_normalize` method of the panda's library. The method returns a pandas data frame where each column is a key of the dictionary and each value is the value of that key.\n",
    "\n",
    "The problem with using this method is that our dictionary is deep nested. This means that there are other dictionaries nested into the dictionary. To capture correctly this morphology wee will use some attributes of the json_nomralize method."
   ]
  },
  {
   "cell_type": "code",
   "execution_count": 15,
   "id": "unnecessary-explanation",
   "metadata": {},
   "outputs": [
    {
     "data": {
      "text/plain": [
       "Index(['id', 'alias', 'name', 'image_url', 'is_closed', 'url', 'review_count',\n",
       "       'categories', 'rating', 'transactions', 'price', 'phone',\n",
       "       'display_phone', 'distance', 'coordinates.latitude',\n",
       "       'coordinates.longitude', 'location.address1', 'location.address2',\n",
       "       'location.address3', 'location.city', 'location.zip_code',\n",
       "       'location.country', 'location.state', 'location.display_address'],\n",
       "      dtype='object')"
      ]
     },
     "metadata": {},
     "output_type": "display_data"
    },
    {
     "data": {
      "text/html": [
       "<div>\n",
       "<style scoped>\n",
       "    .dataframe tbody tr th:only-of-type {\n",
       "        vertical-align: middle;\n",
       "    }\n",
       "\n",
       "    .dataframe tbody tr th {\n",
       "        vertical-align: top;\n",
       "    }\n",
       "\n",
       "    .dataframe thead th {\n",
       "        text-align: right;\n",
       "    }\n",
       "</style>\n",
       "<table border=\"1\" class=\"dataframe\">\n",
       "  <thead>\n",
       "    <tr style=\"text-align: right;\">\n",
       "      <th></th>\n",
       "      <th>id</th>\n",
       "      <th>alias</th>\n",
       "      <th>name</th>\n",
       "      <th>image_url</th>\n",
       "      <th>is_closed</th>\n",
       "      <th>url</th>\n",
       "      <th>review_count</th>\n",
       "      <th>categories</th>\n",
       "      <th>rating</th>\n",
       "      <th>transactions</th>\n",
       "      <th>...</th>\n",
       "      <th>coordinates.latitude</th>\n",
       "      <th>coordinates.longitude</th>\n",
       "      <th>location.address1</th>\n",
       "      <th>location.address2</th>\n",
       "      <th>location.address3</th>\n",
       "      <th>location.city</th>\n",
       "      <th>location.zip_code</th>\n",
       "      <th>location.country</th>\n",
       "      <th>location.state</th>\n",
       "      <th>location.display_address</th>\n",
       "    </tr>\n",
       "  </thead>\n",
       "  <tbody>\n",
       "    <tr>\n",
       "      <th>0</th>\n",
       "      <td>8uBE9ZgfZOM2z_Rllw478Q</td>\n",
       "      <td>stadtklause-berlin</td>\n",
       "      <td>Stadtklause</td>\n",
       "      <td>https://s3-media3.fl.yelpcdn.com/bphoto/vqFLzT...</td>\n",
       "      <td>False</td>\n",
       "      <td>https://www.yelp.com/biz/stadtklause-berlin?ad...</td>\n",
       "      <td>172</td>\n",
       "      <td>[{'alias': 'german', 'title': 'German'}]</td>\n",
       "      <td>4.5</td>\n",
       "      <td>[]</td>\n",
       "      <td>...</td>\n",
       "      <td>52.504779</td>\n",
       "      <td>13.380618</td>\n",
       "      <td>Bernburger Str. 35</td>\n",
       "      <td></td>\n",
       "      <td>None</td>\n",
       "      <td>Berlin</td>\n",
       "      <td>10963</td>\n",
       "      <td>DE</td>\n",
       "      <td>BE</td>\n",
       "      <td>[Bernburger Str. 35, 10963 Berlin, Germany]</td>\n",
       "    </tr>\n",
       "  </tbody>\n",
       "</table>\n",
       "<p>1 rows × 24 columns</p>\n",
       "</div>"
      ],
      "text/plain": [
       "                       id               alias         name  \\\n",
       "0  8uBE9ZgfZOM2z_Rllw478Q  stadtklause-berlin  Stadtklause   \n",
       "\n",
       "                                           image_url  is_closed  \\\n",
       "0  https://s3-media3.fl.yelpcdn.com/bphoto/vqFLzT...      False   \n",
       "\n",
       "                                                 url  review_count  \\\n",
       "0  https://www.yelp.com/biz/stadtklause-berlin?ad...           172   \n",
       "\n",
       "                                 categories  rating transactions  ...  \\\n",
       "0  [{'alias': 'german', 'title': 'German'}]     4.5           []  ...   \n",
       "\n",
       "  coordinates.latitude coordinates.longitude   location.address1  \\\n",
       "0            52.504779             13.380618  Bernburger Str. 35   \n",
       "\n",
       "   location.address2  location.address3  location.city location.zip_code  \\\n",
       "0                                  None         Berlin             10963   \n",
       "\n",
       "  location.country location.state                     location.display_address  \n",
       "0               DE             BE  [Bernburger Str. 35, 10963 Berlin, Germany]  \n",
       "\n",
       "[1 rows x 24 columns]"
      ]
     },
     "metadata": {},
     "output_type": "display_data"
    },
    {
     "data": {
      "application/javascript": [
       "\n",
       "            setTimeout(function() {\n",
       "                var nbb_cell_id = 15;\n",
       "                var nbb_unformatted_code = \"# Raw transform of the dictionary to dataframe\\ndisplay(json_normalize(restaurants[0][\\\"businesses\\\"][0]).columns)\\n\\ndisplay(json_normalize(restaurants[0][\\\"businesses\\\"][0]))\";\n",
       "                var nbb_formatted_code = \"# Raw transform of the dictionary to dataframe\\ndisplay(json_normalize(restaurants[0][\\\"businesses\\\"][0]).columns)\\n\\ndisplay(json_normalize(restaurants[0][\\\"businesses\\\"][0]))\";\n",
       "                var nbb_cells = Jupyter.notebook.get_cells();\n",
       "                for (var i = 0; i < nbb_cells.length; ++i) {\n",
       "                    if (nbb_cells[i].input_prompt_number == nbb_cell_id) {\n",
       "                        if (nbb_cells[i].get_text() == nbb_unformatted_code) {\n",
       "                             nbb_cells[i].set_text(nbb_formatted_code);\n",
       "                        }\n",
       "                        break;\n",
       "                    }\n",
       "                }\n",
       "            }, 500);\n",
       "            "
      ],
      "text/plain": [
       "<IPython.core.display.Javascript object>"
      ]
     },
     "metadata": {},
     "output_type": "display_data"
    }
   ],
   "source": [
    "# Raw transform of the dictionary to dataframe\n",
    "display(json_normalize(restaurants[0][\"businesses\"][0]).columns)\n",
    "\n",
    "display(json_normalize(restaurants[0][\"businesses\"][0]))"
   ]
  },
  {
   "cell_type": "code",
   "execution_count": 16,
   "id": "western-least",
   "metadata": {},
   "outputs": [
    {
     "data": {
      "application/javascript": [
       "\n",
       "            setTimeout(function() {\n",
       "                var nbb_cell_id = 16;\n",
       "                var nbb_unformatted_code = \"record_path = \\\"categories\\\"\\nmeta = [\\n    \\\"id\\\",\\n    \\\"name\\\",\\n    \\\"price\\\",\\n    \\\"review_count\\\",\\n    \\\"rating\\\",\\n    \\\"phone\\\",\\n    \\\"distance\\\",\\n    [\\\"coordinates\\\", \\\"latitude\\\"],\\n    [\\\"coordinates\\\", \\\"longitude\\\"],\\n    [\\\"location\\\", \\\"city\\\"],\\n    [\\\"location\\\", \\\"zip_code\\\"],\\n    [\\\"location\\\", \\\"address1\\\"],\\n]\\nmeta_prefix = \\\"restaurant_\\\"\\nrecord_prefix = \\\"category_\\\"\";\n",
       "                var nbb_formatted_code = \"record_path = \\\"categories\\\"\\nmeta = [\\n    \\\"id\\\",\\n    \\\"name\\\",\\n    \\\"price\\\",\\n    \\\"review_count\\\",\\n    \\\"rating\\\",\\n    \\\"phone\\\",\\n    \\\"distance\\\",\\n    [\\\"coordinates\\\", \\\"latitude\\\"],\\n    [\\\"coordinates\\\", \\\"longitude\\\"],\\n    [\\\"location\\\", \\\"city\\\"],\\n    [\\\"location\\\", \\\"zip_code\\\"],\\n    [\\\"location\\\", \\\"address1\\\"],\\n]\\nmeta_prefix = \\\"restaurant_\\\"\\nrecord_prefix = \\\"category_\\\"\";\n",
       "                var nbb_cells = Jupyter.notebook.get_cells();\n",
       "                for (var i = 0; i < nbb_cells.length; ++i) {\n",
       "                    if (nbb_cells[i].input_prompt_number == nbb_cell_id) {\n",
       "                        if (nbb_cells[i].get_text() == nbb_unformatted_code) {\n",
       "                             nbb_cells[i].set_text(nbb_formatted_code);\n",
       "                        }\n",
       "                        break;\n",
       "                    }\n",
       "                }\n",
       "            }, 500);\n",
       "            "
      ],
      "text/plain": [
       "<IPython.core.display.Javascript object>"
      ]
     },
     "metadata": {},
     "output_type": "display_data"
    }
   ],
   "source": [
    "record_path = \"categories\"\n",
    "meta = [\n",
    "    \"id\",\n",
    "    \"name\",\n",
    "    \"price\",\n",
    "    \"review_count\",\n",
    "    \"rating\",\n",
    "    \"phone\",\n",
    "    \"distance\",\n",
    "    [\"coordinates\", \"latitude\"],\n",
    "    [\"coordinates\", \"longitude\"],\n",
    "    [\"location\", \"city\"],\n",
    "    [\"location\", \"zip_code\"],\n",
    "    [\"location\", \"address1\"],\n",
    "]\n",
    "meta_prefix = \"restaurant_\"\n",
    "record_prefix = \"category_\""
   ]
  },
  {
   "cell_type": "code",
   "execution_count": 17,
   "id": "robust-farmer",
   "metadata": {},
   "outputs": [
    {
     "data": {
      "text/html": [
       "<div>\n",
       "<style scoped>\n",
       "    .dataframe tbody tr th:only-of-type {\n",
       "        vertical-align: middle;\n",
       "    }\n",
       "\n",
       "    .dataframe tbody tr th {\n",
       "        vertical-align: top;\n",
       "    }\n",
       "\n",
       "    .dataframe thead th {\n",
       "        text-align: right;\n",
       "    }\n",
       "</style>\n",
       "<table border=\"1\" class=\"dataframe\">\n",
       "  <thead>\n",
       "    <tr style=\"text-align: right;\">\n",
       "      <th></th>\n",
       "      <th>category_alias</th>\n",
       "      <th>category_title</th>\n",
       "      <th>restaurant_id</th>\n",
       "      <th>restaurant_name</th>\n",
       "      <th>restaurant_price</th>\n",
       "      <th>restaurant_review_count</th>\n",
       "      <th>restaurant_rating</th>\n",
       "      <th>restaurant_phone</th>\n",
       "      <th>restaurant_distance</th>\n",
       "      <th>restaurant_coordinates_latitude</th>\n",
       "      <th>restaurant_coordinates_longitude</th>\n",
       "      <th>restaurant_location_city</th>\n",
       "      <th>restaurant_location_zip_code</th>\n",
       "      <th>restaurant_location_address1</th>\n",
       "    </tr>\n",
       "  </thead>\n",
       "  <tbody>\n",
       "    <tr>\n",
       "      <th>0</th>\n",
       "      <td>german</td>\n",
       "      <td>German</td>\n",
       "      <td>8uBE9ZgfZOM2z_Rllw478Q</td>\n",
       "      <td>Stadtklause</td>\n",
       "      <td>€</td>\n",
       "      <td>172</td>\n",
       "      <td>4.5</td>\n",
       "      <td>+493051056381</td>\n",
       "      <td>2205.24405</td>\n",
       "      <td>52.504779</td>\n",
       "      <td>13.380618</td>\n",
       "      <td>Berlin</td>\n",
       "      <td>10963</td>\n",
       "      <td>Bernburger Str. 35</td>\n",
       "    </tr>\n",
       "  </tbody>\n",
       "</table>\n",
       "</div>"
      ],
      "text/plain": [
       "  category_alias category_title           restaurant_id restaurant_name  \\\n",
       "0         german         German  8uBE9ZgfZOM2z_Rllw478Q     Stadtklause   \n",
       "\n",
       "  restaurant_price restaurant_review_count restaurant_rating restaurant_phone  \\\n",
       "0                €                     172               4.5    +493051056381   \n",
       "\n",
       "  restaurant_distance restaurant_coordinates_latitude  \\\n",
       "0          2205.24405                       52.504779   \n",
       "\n",
       "  restaurant_coordinates_longitude restaurant_location_city  \\\n",
       "0                        13.380618                   Berlin   \n",
       "\n",
       "  restaurant_location_zip_code restaurant_location_address1  \n",
       "0                        10963           Bernburger Str. 35  "
      ]
     },
     "execution_count": 17,
     "metadata": {},
     "output_type": "execute_result"
    },
    {
     "data": {
      "application/javascript": [
       "\n",
       "            setTimeout(function() {\n",
       "                var nbb_cell_id = 17;\n",
       "                var nbb_unformatted_code = \"# clean transform of the dictionary to dataframe\\njson_normalize(\\n    restaurants[0][\\\"businesses\\\"][0],\\n    sep=\\\"_\\\",\\n    record_path=record_path,\\n    meta=meta,\\n    errors=\\\"ignore\\\",\\n    meta_prefix=meta_prefix,\\n    record_prefix=record_prefix,\\n)\";\n",
       "                var nbb_formatted_code = \"# clean transform of the dictionary to dataframe\\njson_normalize(\\n    restaurants[0][\\\"businesses\\\"][0],\\n    sep=\\\"_\\\",\\n    record_path=record_path,\\n    meta=meta,\\n    errors=\\\"ignore\\\",\\n    meta_prefix=meta_prefix,\\n    record_prefix=record_prefix,\\n)\";\n",
       "                var nbb_cells = Jupyter.notebook.get_cells();\n",
       "                for (var i = 0; i < nbb_cells.length; ++i) {\n",
       "                    if (nbb_cells[i].input_prompt_number == nbb_cell_id) {\n",
       "                        if (nbb_cells[i].get_text() == nbb_unformatted_code) {\n",
       "                             nbb_cells[i].set_text(nbb_formatted_code);\n",
       "                        }\n",
       "                        break;\n",
       "                    }\n",
       "                }\n",
       "            }, 500);\n",
       "            "
      ],
      "text/plain": [
       "<IPython.core.display.Javascript object>"
      ]
     },
     "metadata": {},
     "output_type": "display_data"
    }
   ],
   "source": [
    "# clean transform of the dictionary to dataframe\n",
    "json_normalize(\n",
    "    restaurants[0][\"businesses\"][0],\n",
    "    sep=\"_\",\n",
    "    record_path=record_path,\n",
    "    meta=meta,\n",
    "    errors=\"ignore\",\n",
    "    meta_prefix=meta_prefix,\n",
    "    record_prefix=record_prefix,\n",
    ")"
   ]
  },
  {
   "cell_type": "code",
   "execution_count": 18,
   "id": "linear-trunk",
   "metadata": {},
   "outputs": [
    {
     "data": {
      "application/javascript": [
       "\n",
       "            setTimeout(function() {\n",
       "                var nbb_cell_id = 18;\n",
       "                var nbb_unformatted_code = \"def transform_data(data):\\n    \\\"\\\"\\\"\\n    Transforming the data for each reastaurant to dataframe where each key is a column.\\n    \\n    :returns - A panda's dataframe\\n    \\\"\\\"\\\"\\n    df_list = []\\n    for each in data:\\n        df_list.append(\\n            json_normalize(\\n                each[\\\"businesses\\\"],\\n                sep=\\\"_\\\",\\n                record_path=record_path,\\n                meta=meta,\\n                errors=\\\"ignore\\\",\\n                meta_prefix=meta_prefix,\\n                record_prefix=record_prefix,\\n            )\\n        )\\n    final_df = pd.concat(df_list, ignore_index=True)\\n    print(\\\"Final data frame created...\\\")\\n    print(final_df.info())\\n    return final_df\";\n",
       "                var nbb_formatted_code = \"def transform_data(data):\\n    \\\"\\\"\\\"\\n    Transforming the data for each reastaurant to dataframe where each key is a column.\\n    \\n    :returns - A panda's dataframe\\n    \\\"\\\"\\\"\\n    df_list = []\\n    for each in data:\\n        df_list.append(\\n            json_normalize(\\n                each[\\\"businesses\\\"],\\n                sep=\\\"_\\\",\\n                record_path=record_path,\\n                meta=meta,\\n                errors=\\\"ignore\\\",\\n                meta_prefix=meta_prefix,\\n                record_prefix=record_prefix,\\n            )\\n        )\\n    final_df = pd.concat(df_list, ignore_index=True)\\n    print(\\\"Final data frame created...\\\")\\n    print(final_df.info())\\n    return final_df\";\n",
       "                var nbb_cells = Jupyter.notebook.get_cells();\n",
       "                for (var i = 0; i < nbb_cells.length; ++i) {\n",
       "                    if (nbb_cells[i].input_prompt_number == nbb_cell_id) {\n",
       "                        if (nbb_cells[i].get_text() == nbb_unformatted_code) {\n",
       "                             nbb_cells[i].set_text(nbb_formatted_code);\n",
       "                        }\n",
       "                        break;\n",
       "                    }\n",
       "                }\n",
       "            }, 500);\n",
       "            "
      ],
      "text/plain": [
       "<IPython.core.display.Javascript object>"
      ]
     },
     "metadata": {},
     "output_type": "display_data"
    }
   ],
   "source": [
    "def transform_data(data):\n",
    "    \"\"\"\n",
    "    Transforming the data for each reastaurant to dataframe where each key is a column.\n",
    "    \n",
    "    :returns - A panda's dataframe\n",
    "    \"\"\"\n",
    "    df_list = []\n",
    "    for each in data:\n",
    "        df_list.append(\n",
    "            json_normalize(\n",
    "                each[\"businesses\"],\n",
    "                sep=\"_\",\n",
    "                record_path=record_path,\n",
    "                meta=meta,\n",
    "                errors=\"ignore\",\n",
    "                meta_prefix=meta_prefix,\n",
    "                record_prefix=record_prefix,\n",
    "            )\n",
    "        )\n",
    "    final_df = pd.concat(df_list, ignore_index=True)\n",
    "    print(\"Final data frame created...\")\n",
    "    print(final_df.info())\n",
    "    return final_df"
   ]
  },
  {
   "cell_type": "code",
   "execution_count": 19,
   "id": "level-dayton",
   "metadata": {},
   "outputs": [
    {
     "name": "stdout",
     "output_type": "stream",
     "text": [
      "Final data frame created...\n",
      "<class 'pandas.core.frame.DataFrame'>\n",
      "RangeIndex: 400 entries, 0 to 399\n",
      "Data columns (total 14 columns):\n",
      " #   Column                            Non-Null Count  Dtype \n",
      "---  ------                            --------------  ----- \n",
      " 0   category_alias                    400 non-null    object\n",
      " 1   category_title                    400 non-null    object\n",
      " 2   restaurant_id                     400 non-null    object\n",
      " 3   restaurant_name                   400 non-null    object\n",
      " 4   restaurant_price                  314 non-null    object\n",
      " 5   restaurant_review_count           400 non-null    object\n",
      " 6   restaurant_rating                 400 non-null    object\n",
      " 7   restaurant_phone                  400 non-null    object\n",
      " 8   restaurant_distance               400 non-null    object\n",
      " 9   restaurant_coordinates_latitude   400 non-null    object\n",
      " 10  restaurant_coordinates_longitude  400 non-null    object\n",
      " 11  restaurant_location_city          400 non-null    object\n",
      " 12  restaurant_location_zip_code      400 non-null    object\n",
      " 13  restaurant_location_address1      400 non-null    object\n",
      "dtypes: object(14)\n",
      "memory usage: 43.9+ KB\n",
      "None\n"
     ]
    },
    {
     "data": {
      "application/javascript": [
       "\n",
       "            setTimeout(function() {\n",
       "                var nbb_cell_id = 19;\n",
       "                var nbb_unformatted_code = \"restaurants_df = transform_data(restaurants)\";\n",
       "                var nbb_formatted_code = \"restaurants_df = transform_data(restaurants)\";\n",
       "                var nbb_cells = Jupyter.notebook.get_cells();\n",
       "                for (var i = 0; i < nbb_cells.length; ++i) {\n",
       "                    if (nbb_cells[i].input_prompt_number == nbb_cell_id) {\n",
       "                        if (nbb_cells[i].get_text() == nbb_unformatted_code) {\n",
       "                             nbb_cells[i].set_text(nbb_formatted_code);\n",
       "                        }\n",
       "                        break;\n",
       "                    }\n",
       "                }\n",
       "            }, 500);\n",
       "            "
      ],
      "text/plain": [
       "<IPython.core.display.Javascript object>"
      ]
     },
     "metadata": {},
     "output_type": "display_data"
    }
   ],
   "source": [
    "restaurants_df = transform_data(restaurants)"
   ]
  },
  {
   "cell_type": "code",
   "execution_count": 20,
   "id": "exempt-jason",
   "metadata": {},
   "outputs": [
    {
     "data": {
      "text/html": [
       "<div>\n",
       "<style scoped>\n",
       "    .dataframe tbody tr th:only-of-type {\n",
       "        vertical-align: middle;\n",
       "    }\n",
       "\n",
       "    .dataframe tbody tr th {\n",
       "        vertical-align: top;\n",
       "    }\n",
       "\n",
       "    .dataframe thead th {\n",
       "        text-align: right;\n",
       "    }\n",
       "</style>\n",
       "<table border=\"1\" class=\"dataframe\">\n",
       "  <thead>\n",
       "    <tr style=\"text-align: right;\">\n",
       "      <th></th>\n",
       "      <th>category_alias</th>\n",
       "      <th>category_title</th>\n",
       "      <th>restaurant_id</th>\n",
       "      <th>restaurant_name</th>\n",
       "      <th>restaurant_price</th>\n",
       "      <th>restaurant_review_count</th>\n",
       "      <th>restaurant_rating</th>\n",
       "      <th>restaurant_phone</th>\n",
       "      <th>restaurant_distance</th>\n",
       "      <th>restaurant_coordinates_latitude</th>\n",
       "      <th>restaurant_coordinates_longitude</th>\n",
       "      <th>restaurant_location_city</th>\n",
       "      <th>restaurant_location_zip_code</th>\n",
       "      <th>restaurant_location_address1</th>\n",
       "    </tr>\n",
       "  </thead>\n",
       "  <tbody>\n",
       "    <tr>\n",
       "      <th>160</th>\n",
       "      <td>spanish</td>\n",
       "      <td>Spanish</td>\n",
       "      <td>6UUxSr7fDTT4tH8Wk0AeeQ</td>\n",
       "      <td>Picoteo</td>\n",
       "      <td>€€</td>\n",
       "      <td>27</td>\n",
       "      <td>4.5</td>\n",
       "      <td>+493060407400</td>\n",
       "      <td>3894.408941</td>\n",
       "      <td>52.4977</td>\n",
       "      <td>13.4131</td>\n",
       "      <td>Berlin</td>\n",
       "      <td>10999</td>\n",
       "      <td>Erkelenzdamm 47</td>\n",
       "    </tr>\n",
       "    <tr>\n",
       "      <th>193</th>\n",
       "      <td>breakfast_brunch</td>\n",
       "      <td>Breakfast &amp; Brunch</td>\n",
       "      <td>sEsT-fXXmvnmxKOmrjBxsA</td>\n",
       "      <td>Käfer</td>\n",
       "      <td>€€€</td>\n",
       "      <td>111</td>\n",
       "      <td>4.0</td>\n",
       "      <td>+49302262990</td>\n",
       "      <td>643.361155</td>\n",
       "      <td>52.518619</td>\n",
       "      <td>13.37631</td>\n",
       "      <td>Berlin</td>\n",
       "      <td>11011</td>\n",
       "      <td>Platz der Republik 1</td>\n",
       "    </tr>\n",
       "    <tr>\n",
       "      <th>286</th>\n",
       "      <td>thai</td>\n",
       "      <td>Thai</td>\n",
       "      <td>Yiv2p7StX3_b2rchYMLKbQ</td>\n",
       "      <td>Hangmee</td>\n",
       "      <td>€€</td>\n",
       "      <td>30</td>\n",
       "      <td>4.0</td>\n",
       "      <td>+493082717447</td>\n",
       "      <td>5664.92192</td>\n",
       "      <td>52.513</td>\n",
       "      <td>13.45755</td>\n",
       "      <td>Berlin</td>\n",
       "      <td>10245</td>\n",
       "      <td>Boxhagener Str. 108</td>\n",
       "    </tr>\n",
       "    <tr>\n",
       "      <th>175</th>\n",
       "      <td>coffee</td>\n",
       "      <td>Coffee &amp; Tea</td>\n",
       "      <td>0fikR43JcEVdeRLNY4MBdQ</td>\n",
       "      <td>Mr. Vertigo</td>\n",
       "      <td>€</td>\n",
       "      <td>48</td>\n",
       "      <td>4.5</td>\n",
       "      <td>+491636010110</td>\n",
       "      <td>827.787597</td>\n",
       "      <td>52.529873</td>\n",
       "      <td>13.384146</td>\n",
       "      <td>Berlin</td>\n",
       "      <td>10115</td>\n",
       "      <td>Chausseestr. 17</td>\n",
       "    </tr>\n",
       "    <tr>\n",
       "      <th>109</th>\n",
       "      <td>sandwiches</td>\n",
       "      <td>Sandwiches</td>\n",
       "      <td>BB9cYpDwCX7FU_UwnQ4B-w</td>\n",
       "      <td>Simply...</td>\n",
       "      <td>€€</td>\n",
       "      <td>7</td>\n",
       "      <td>4.5</td>\n",
       "      <td>+493094402603</td>\n",
       "      <td>3921.910909</td>\n",
       "      <td>52.5343</td>\n",
       "      <td>13.4315</td>\n",
       "      <td>Berlin</td>\n",
       "      <td>10407</td>\n",
       "      <td>Pasteurstr. 2</td>\n",
       "    </tr>\n",
       "    <tr>\n",
       "      <th>57</th>\n",
       "      <td>scottish</td>\n",
       "      <td>Scottish</td>\n",
       "      <td>FqjkhdhJIpxAVFGfytu73A</td>\n",
       "      <td>Hirsch &amp; Hase</td>\n",
       "      <td>NaN</td>\n",
       "      <td>5</td>\n",
       "      <td>5.0</td>\n",
       "      <td>+4917631322073</td>\n",
       "      <td>2281.968223</td>\n",
       "      <td>52.542081</td>\n",
       "      <td>13.393723</td>\n",
       "      <td>Berlin</td>\n",
       "      <td>13355</td>\n",
       "      <td>Brunnenstr. 73</td>\n",
       "    </tr>\n",
       "    <tr>\n",
       "      <th>7</th>\n",
       "      <td>sandwiches</td>\n",
       "      <td>Sandwiches</td>\n",
       "      <td>UzXq4QuasWnooTzHQlsMJg</td>\n",
       "      <td>Muse</td>\n",
       "      <td>€€</td>\n",
       "      <td>60</td>\n",
       "      <td>4.5</td>\n",
       "      <td>+493040056289</td>\n",
       "      <td>3352.020979</td>\n",
       "      <td>52.53299</td>\n",
       "      <td>13.42322</td>\n",
       "      <td>Berlin</td>\n",
       "      <td>10405</td>\n",
       "      <td>Immanuelkirchstr. 31</td>\n",
       "    </tr>\n",
       "    <tr>\n",
       "      <th>10</th>\n",
       "      <td>chocolate</td>\n",
       "      <td>Chocolatiers &amp; Shops</td>\n",
       "      <td>MqiobbxpvGTciQk75G9u2w</td>\n",
       "      <td>Rausch Schokoladenhaus</td>\n",
       "      <td>€€</td>\n",
       "      <td>309</td>\n",
       "      <td>4.5</td>\n",
       "      <td>+4930757880</td>\n",
       "      <td>1719.063263</td>\n",
       "      <td>52.51199</td>\n",
       "      <td>13.39135</td>\n",
       "      <td>Berlin</td>\n",
       "      <td>10117</td>\n",
       "      <td>Charlottenstr. 60</td>\n",
       "    </tr>\n",
       "    <tr>\n",
       "      <th>291</th>\n",
       "      <td>greek</td>\n",
       "      <td>Greek</td>\n",
       "      <td>EIfQJCBkggq75CkFr3LaTQ</td>\n",
       "      <td>Taverna Amphipolis</td>\n",
       "      <td>€€</td>\n",
       "      <td>35</td>\n",
       "      <td>4.5</td>\n",
       "      <td>+49303951556</td>\n",
       "      <td>2356.677119</td>\n",
       "      <td>52.52854</td>\n",
       "      <td>13.34169</td>\n",
       "      <td>Berlin</td>\n",
       "      <td>10551</td>\n",
       "      <td>Wilhelmshavener Str. 6</td>\n",
       "    </tr>\n",
       "    <tr>\n",
       "      <th>370</th>\n",
       "      <td>kebab</td>\n",
       "      <td>Kebab</td>\n",
       "      <td>boBcF__ECw8h5TZuEneI_w</td>\n",
       "      <td>Mustafa Demir's Gemüse Kebap</td>\n",
       "      <td>NaN</td>\n",
       "      <td>18</td>\n",
       "      <td>4.0</td>\n",
       "      <td></td>\n",
       "      <td>1760.619441</td>\n",
       "      <td>52.522799</td>\n",
       "      <td>13.401745</td>\n",
       "      <td>Berlin</td>\n",
       "      <td>10178</td>\n",
       "      <td>Neue Promenade 7</td>\n",
       "    </tr>\n",
       "  </tbody>\n",
       "</table>\n",
       "</div>"
      ],
      "text/plain": [
       "       category_alias        category_title           restaurant_id  \\\n",
       "160           spanish               Spanish  6UUxSr7fDTT4tH8Wk0AeeQ   \n",
       "193  breakfast_brunch    Breakfast & Brunch  sEsT-fXXmvnmxKOmrjBxsA   \n",
       "286              thai                  Thai  Yiv2p7StX3_b2rchYMLKbQ   \n",
       "175            coffee          Coffee & Tea  0fikR43JcEVdeRLNY4MBdQ   \n",
       "109        sandwiches            Sandwiches  BB9cYpDwCX7FU_UwnQ4B-w   \n",
       "57           scottish              Scottish  FqjkhdhJIpxAVFGfytu73A   \n",
       "7          sandwiches            Sandwiches  UzXq4QuasWnooTzHQlsMJg   \n",
       "10          chocolate  Chocolatiers & Shops  MqiobbxpvGTciQk75G9u2w   \n",
       "291             greek                 Greek  EIfQJCBkggq75CkFr3LaTQ   \n",
       "370             kebab                 Kebab  boBcF__ECw8h5TZuEneI_w   \n",
       "\n",
       "                  restaurant_name restaurant_price restaurant_review_count  \\\n",
       "160                       Picoteo               €€                      27   \n",
       "193                         Käfer              €€€                     111   \n",
       "286                       Hangmee               €€                      30   \n",
       "175                   Mr. Vertigo                €                      48   \n",
       "109                     Simply...               €€                       7   \n",
       "57                  Hirsch & Hase              NaN                       5   \n",
       "7                            Muse               €€                      60   \n",
       "10         Rausch Schokoladenhaus               €€                     309   \n",
       "291            Taverna Amphipolis               €€                      35   \n",
       "370  Mustafa Demir's Gemüse Kebap              NaN                      18   \n",
       "\n",
       "    restaurant_rating restaurant_phone restaurant_distance  \\\n",
       "160               4.5    +493060407400         3894.408941   \n",
       "193               4.0     +49302262990          643.361155   \n",
       "286               4.0    +493082717447          5664.92192   \n",
       "175               4.5    +491636010110          827.787597   \n",
       "109               4.5    +493094402603         3921.910909   \n",
       "57                5.0   +4917631322073         2281.968223   \n",
       "7                 4.5    +493040056289         3352.020979   \n",
       "10                4.5      +4930757880         1719.063263   \n",
       "291               4.5     +49303951556         2356.677119   \n",
       "370               4.0                          1760.619441   \n",
       "\n",
       "    restaurant_coordinates_latitude restaurant_coordinates_longitude  \\\n",
       "160                         52.4977                          13.4131   \n",
       "193                       52.518619                         13.37631   \n",
       "286                          52.513                         13.45755   \n",
       "175                       52.529873                        13.384146   \n",
       "109                         52.5343                          13.4315   \n",
       "57                        52.542081                        13.393723   \n",
       "7                          52.53299                         13.42322   \n",
       "10                         52.51199                         13.39135   \n",
       "291                        52.52854                         13.34169   \n",
       "370                       52.522799                        13.401745   \n",
       "\n",
       "    restaurant_location_city restaurant_location_zip_code  \\\n",
       "160                   Berlin                        10999   \n",
       "193                   Berlin                        11011   \n",
       "286                   Berlin                        10245   \n",
       "175                   Berlin                        10115   \n",
       "109                   Berlin                        10407   \n",
       "57                    Berlin                        13355   \n",
       "7                     Berlin                        10405   \n",
       "10                    Berlin                        10117   \n",
       "291                   Berlin                        10551   \n",
       "370                   Berlin                        10178   \n",
       "\n",
       "    restaurant_location_address1  \n",
       "160              Erkelenzdamm 47  \n",
       "193         Platz der Republik 1  \n",
       "286          Boxhagener Str. 108  \n",
       "175              Chausseestr. 17  \n",
       "109                Pasteurstr. 2  \n",
       "57                Brunnenstr. 73  \n",
       "7           Immanuelkirchstr. 31  \n",
       "10             Charlottenstr. 60  \n",
       "291       Wilhelmshavener Str. 6  \n",
       "370             Neue Promenade 7  "
      ]
     },
     "metadata": {},
     "output_type": "display_data"
    },
    {
     "data": {
      "application/javascript": [
       "\n",
       "            setTimeout(function() {\n",
       "                var nbb_cell_id = 20;\n",
       "                var nbb_unformatted_code = \"display(restaurants_df.sample(10))\";\n",
       "                var nbb_formatted_code = \"display(restaurants_df.sample(10))\";\n",
       "                var nbb_cells = Jupyter.notebook.get_cells();\n",
       "                for (var i = 0; i < nbb_cells.length; ++i) {\n",
       "                    if (nbb_cells[i].input_prompt_number == nbb_cell_id) {\n",
       "                        if (nbb_cells[i].get_text() == nbb_unformatted_code) {\n",
       "                             nbb_cells[i].set_text(nbb_formatted_code);\n",
       "                        }\n",
       "                        break;\n",
       "                    }\n",
       "                }\n",
       "            }, 500);\n",
       "            "
      ],
      "text/plain": [
       "<IPython.core.display.Javascript object>"
      ]
     },
     "metadata": {},
     "output_type": "display_data"
    }
   ],
   "source": [
    "display(restaurants_df.sample(10))"
   ]
  },
  {
   "cell_type": "code",
   "execution_count": 21,
   "id": "french-return",
   "metadata": {},
   "outputs": [
    {
     "data": {
      "application/javascript": [
       "\n",
       "            setTimeout(function() {\n",
       "                var nbb_cell_id = 21;\n",
       "                var nbb_unformatted_code = \"# Check if there are duplicated entries\\nassert sum(restaurants_df.duplicated()) == 0\";\n",
       "                var nbb_formatted_code = \"# Check if there are duplicated entries\\nassert sum(restaurants_df.duplicated()) == 0\";\n",
       "                var nbb_cells = Jupyter.notebook.get_cells();\n",
       "                for (var i = 0; i < nbb_cells.length; ++i) {\n",
       "                    if (nbb_cells[i].input_prompt_number == nbb_cell_id) {\n",
       "                        if (nbb_cells[i].get_text() == nbb_unformatted_code) {\n",
       "                             nbb_cells[i].set_text(nbb_formatted_code);\n",
       "                        }\n",
       "                        break;\n",
       "                    }\n",
       "                }\n",
       "            }, 500);\n",
       "            "
      ],
      "text/plain": [
       "<IPython.core.display.Javascript object>"
      ]
     },
     "metadata": {},
     "output_type": "display_data"
    }
   ],
   "source": [
    "# Check if there are duplicated entries\n",
    "assert sum(restaurants_df.duplicated()) == 0"
   ]
  },
  {
   "cell_type": "markdown",
   "id": "intimate-andrew",
   "metadata": {},
   "source": [
    "It worked, we have an organized data frame with no duplicated values that holds all the information needed for our purposes. We managed to declutter the noise and keep only what is important for our analysis.\n",
    "\n",
    "✔️Load the data\n",
    "\n",
    "✔️Transform the data\n",
    "\n",
    "We have checked two very important steps, now next step is to load the data into a SQL database\n",
    "\n"
   ]
  },
  {
   "cell_type": "markdown",
   "id": "stone-particle",
   "metadata": {},
   "source": [
    "### Connect to the database   <a name='connect-db'  href='#list-tab'><span>🔼</span></a>"
   ]
  },
  {
   "cell_type": "markdown",
   "id": "mature-judges",
   "metadata": {},
   "source": [
    "For this project, I choose to work with PostgreSQL and I used the [Psycopg](https://www.psycopg.org/docs/index.html)\n",
    "python library to connect to and execute queries to my database. We can execute SQL queries either using the [pgAdmin](https://www.pgadmin.org/) tool or using python.\n",
    "\n",
    "If we want to run out DB from python we need to export into the environment all the parameters used for the\n",
    "a connection such as: *the database name*, *password*, *host*, *, etc*, but this step is already completed.\n",
    "\n",
    "To execute a query from python we need to make a connection with the DB, after that, we create a `cursor`, an object that deals with the execution of each query. In the end, we need to close the connection. For our luck pandas supports the transfer of a data frame to SQL database automatically but only using the SQLAlchemy library. For only this step we have to use this specific library"
   ]
  },
  {
   "cell_type": "code",
   "execution_count": 22,
   "id": "unavailable-fraction",
   "metadata": {},
   "outputs": [
    {
     "data": {
      "application/javascript": [
       "\n",
       "            setTimeout(function() {\n",
       "                var nbb_cell_id = 22;\n",
       "                var nbb_unformatted_code = \"host = os.environ.get(\\\"HOST\\\", \\\"\\\")\\ndbname = os.environ.get(\\\"DATABASE_NAME\\\", \\\"\\\")\\nuser = os.environ.get(\\\"DB_USER\\\", \\\"\\\")\\npassword = os.environ.get(\\\"DB_PASSWORD\\\", \\\"\\\")\";\n",
       "                var nbb_formatted_code = \"host = os.environ.get(\\\"HOST\\\", \\\"\\\")\\ndbname = os.environ.get(\\\"DATABASE_NAME\\\", \\\"\\\")\\nuser = os.environ.get(\\\"DB_USER\\\", \\\"\\\")\\npassword = os.environ.get(\\\"DB_PASSWORD\\\", \\\"\\\")\";\n",
       "                var nbb_cells = Jupyter.notebook.get_cells();\n",
       "                for (var i = 0; i < nbb_cells.length; ++i) {\n",
       "                    if (nbb_cells[i].input_prompt_number == nbb_cell_id) {\n",
       "                        if (nbb_cells[i].get_text() == nbb_unformatted_code) {\n",
       "                             nbb_cells[i].set_text(nbb_formatted_code);\n",
       "                        }\n",
       "                        break;\n",
       "                    }\n",
       "                }\n",
       "            }, 500);\n",
       "            "
      ],
      "text/plain": [
       "<IPython.core.display.Javascript object>"
      ]
     },
     "metadata": {},
     "output_type": "display_data"
    }
   ],
   "source": [
    "host = os.environ.get(\"HOST\", \"\")\n",
    "dbname = os.environ.get(\"DATABASE_NAME\", \"\")\n",
    "user = os.environ.get(\"DB_USER\", \"\")\n",
    "password = os.environ.get(\"DB_PASSWORD\", \"\")"
   ]
  },
  {
   "cell_type": "code",
   "execution_count": 23,
   "id": "powered-python",
   "metadata": {},
   "outputs": [
    {
     "data": {
      "application/javascript": [
       "\n",
       "            setTimeout(function() {\n",
       "                var nbb_cell_id = 23;\n",
       "                var nbb_unformatted_code = \"# Build the template for the connection\\nconnection_template = (\\n    f\\\"host={host} dbname={dbname} user={user} password={password} sslmode=disable\\\"\\n)\";\n",
       "                var nbb_formatted_code = \"# Build the template for the connection\\nconnection_template = (\\n    f\\\"host={host} dbname={dbname} user={user} password={password} sslmode=disable\\\"\\n)\";\n",
       "                var nbb_cells = Jupyter.notebook.get_cells();\n",
       "                for (var i = 0; i < nbb_cells.length; ++i) {\n",
       "                    if (nbb_cells[i].input_prompt_number == nbb_cell_id) {\n",
       "                        if (nbb_cells[i].get_text() == nbb_unformatted_code) {\n",
       "                             nbb_cells[i].set_text(nbb_formatted_code);\n",
       "                        }\n",
       "                        break;\n",
       "                    }\n",
       "                }\n",
       "            }, 500);\n",
       "            "
      ],
      "text/plain": [
       "<IPython.core.display.Javascript object>"
      ]
     },
     "metadata": {},
     "output_type": "display_data"
    }
   ],
   "source": [
    "# Build the template for the connection\n",
    "connection_template = (\n",
    "    f\"host={host} dbname={dbname} user={user} password={password} sslmode=disable\"\n",
    ")"
   ]
  },
  {
   "cell_type": "code",
   "execution_count": 24,
   "id": "promising-motorcycle",
   "metadata": {},
   "outputs": [
    {
     "name": "stdout",
     "output_type": "stream",
     "text": [
      "You are connected with yelp database\n"
     ]
    },
    {
     "data": {
      "application/javascript": [
       "\n",
       "            setTimeout(function() {\n",
       "                var nbb_cell_id = 24;\n",
       "                var nbb_unformatted_code = \"# Connect\\nconnection = psycopg2.connect(connection_template)\\nconnection.set_session(autocommit=True)\\ncursor = connection.cursor()\\ncursor.execute(\\\"SELECT current_database()\\\")\\ndb_name = cursor.fetchone()\\nprint(\\\"You are connected with {} database\\\".format(db_name[0]))\";\n",
       "                var nbb_formatted_code = \"# Connect\\nconnection = psycopg2.connect(connection_template)\\nconnection.set_session(autocommit=True)\\ncursor = connection.cursor()\\ncursor.execute(\\\"SELECT current_database()\\\")\\ndb_name = cursor.fetchone()\\nprint(\\\"You are connected with {} database\\\".format(db_name[0]))\";\n",
       "                var nbb_cells = Jupyter.notebook.get_cells();\n",
       "                for (var i = 0; i < nbb_cells.length; ++i) {\n",
       "                    if (nbb_cells[i].input_prompt_number == nbb_cell_id) {\n",
       "                        if (nbb_cells[i].get_text() == nbb_unformatted_code) {\n",
       "                             nbb_cells[i].set_text(nbb_formatted_code);\n",
       "                        }\n",
       "                        break;\n",
       "                    }\n",
       "                }\n",
       "            }, 500);\n",
       "            "
      ],
      "text/plain": [
       "<IPython.core.display.Javascript object>"
      ]
     },
     "metadata": {},
     "output_type": "display_data"
    }
   ],
   "source": [
    "# Connect\n",
    "connection = psycopg2.connect(connection_template)\n",
    "connection.set_session(autocommit=True)\n",
    "cursor = connection.cursor()\n",
    "cursor.execute(\"SELECT current_database()\")\n",
    "db_name = cursor.fetchone()\n",
    "print(\"You are connected with {} database\".format(db_name[0]))"
   ]
  },
  {
   "cell_type": "markdown",
   "id": "exceptional-imagination",
   "metadata": {},
   "source": [
    "The message proves that we are connected to the database with the name yelp. This means that now we can run queries from python"
   ]
  },
  {
   "cell_type": "code",
   "execution_count": 25,
   "id": "running-checklist",
   "metadata": {},
   "outputs": [
    {
     "data": {
      "application/javascript": [
       "\n",
       "            setTimeout(function() {\n",
       "                var nbb_cell_id = 25;\n",
       "                var nbb_unformatted_code = \"def load():\\n    # Save DF to a CSV file locally\\n    restaurants_df.to_csv('./restaurants_df.csv', header=True, index_label='id', index=True, encoding='utf-8')\\n\\n    # Make a connection with the SQLalchemy package\\n    connect = \\\"postgresql+psycopg2://%s:%s@%s:5432/%s\\\" % (\\n        os.environ.get(\\\"DB_USER\\\"),\\n        os.environ.get(\\\"DB_PASSWORD\\\"),\\n        os.environ.get(\\\"HOST\\\"),\\n        os.environ.get('DATABASE_NAME')\\n    )\\n    # Create engine\\n    engine = create_engine(connect)\\n\\n    restaurants_df.to_sql(name=\\\"raw_table\\\",con=engine,if_exists=\\\"replace\\\",index=True)\";\n",
       "                var nbb_formatted_code = \"def load():\\n    # Save DF to a CSV file locally\\n    restaurants_df.to_csv(\\n        \\\"./restaurants_df.csv\\\",\\n        header=True,\\n        index_label=\\\"id\\\",\\n        index=True,\\n        encoding=\\\"utf-8\\\",\\n    )\\n\\n    # Make a connection with the SQLalchemy package\\n    connect = \\\"postgresql+psycopg2://%s:%s@%s:5432/%s\\\" % (\\n        os.environ.get(\\\"DB_USER\\\"),\\n        os.environ.get(\\\"DB_PASSWORD\\\"),\\n        os.environ.get(\\\"HOST\\\"),\\n        os.environ.get(\\\"DATABASE_NAME\\\"),\\n    )\\n    # Create engine\\n    engine = create_engine(connect)\\n\\n    restaurants_df.to_sql(name=\\\"raw_table\\\", con=engine, if_exists=\\\"replace\\\", index=True)\";\n",
       "                var nbb_cells = Jupyter.notebook.get_cells();\n",
       "                for (var i = 0; i < nbb_cells.length; ++i) {\n",
       "                    if (nbb_cells[i].input_prompt_number == nbb_cell_id) {\n",
       "                        if (nbb_cells[i].get_text() == nbb_unformatted_code) {\n",
       "                             nbb_cells[i].set_text(nbb_formatted_code);\n",
       "                        }\n",
       "                        break;\n",
       "                    }\n",
       "                }\n",
       "            }, 500);\n",
       "            "
      ],
      "text/plain": [
       "<IPython.core.display.Javascript object>"
      ]
     },
     "metadata": {},
     "output_type": "display_data"
    }
   ],
   "source": [
    "def load():\n",
    "    # Save DF to a CSV file locally\n",
    "    restaurants_df.to_csv('./restaurants_df.csv', header=True, index_label='id', index=True, encoding='utf-8')\n",
    "\n",
    "    # Make a connection with the SQLalchemy package\n",
    "    connect = \"postgresql+psycopg2://%s:%s@%s:5432/%s\" % (\n",
    "        os.environ.get(\"DB_USER\"),\n",
    "        os.environ.get(\"DB_PASSWORD\"),\n",
    "        os.environ.get(\"HOST\"),\n",
    "        os.environ.get('DATABASE_NAME')\n",
    "    )\n",
    "    # Create engine\n",
    "    engine = create_engine(connect)\n",
    "\n",
    "    restaurants_df.to_sql(name=\"raw_table\",con=engine,if_exists=\"replace\",index=True)\n"
   ]
  },
  {
   "cell_type": "code",
   "execution_count": 26,
   "id": "marked-conviction",
   "metadata": {},
   "outputs": [
    {
     "data": {
      "application/javascript": [
       "\n",
       "            setTimeout(function() {\n",
       "                var nbb_cell_id = 26;\n",
       "                var nbb_unformatted_code = \"# Create a local file with the data, and also push all data to sql database\\nload()\";\n",
       "                var nbb_formatted_code = \"# Create a local file with the data, and also push all data to sql database\\nload()\";\n",
       "                var nbb_cells = Jupyter.notebook.get_cells();\n",
       "                for (var i = 0; i < nbb_cells.length; ++i) {\n",
       "                    if (nbb_cells[i].input_prompt_number == nbb_cell_id) {\n",
       "                        if (nbb_cells[i].get_text() == nbb_unformatted_code) {\n",
       "                             nbb_cells[i].set_text(nbb_formatted_code);\n",
       "                        }\n",
       "                        break;\n",
       "                    }\n",
       "                }\n",
       "            }, 500);\n",
       "            "
      ],
      "text/plain": [
       "<IPython.core.display.Javascript object>"
      ]
     },
     "metadata": {},
     "output_type": "display_data"
    }
   ],
   "source": [
    "# Create a local file with the data, and also push all data to sql database\n",
    "load()"
   ]
  },
  {
   "cell_type": "code",
   "execution_count": 28,
   "id": "declared-storage",
   "metadata": {},
   "outputs": [
    {
     "data": {
      "text/plain": [
       "[(0,\n",
       "  'german',\n",
       "  'German',\n",
       "  '8uBE9ZgfZOM2z_Rllw478Q',\n",
       "  'Stadtklause',\n",
       "  '€',\n",
       "  172,\n",
       "  4.5,\n",
       "  '+493051056381',\n",
       "  2205.244050414826,\n",
       "  52.504779,\n",
       "  13.380618,\n",
       "  'Berlin',\n",
       "  '10963',\n",
       "  'Bernburger Str. 35'),\n",
       " (1,\n",
       "  'modern_european',\n",
       "  'Modern European',\n",
       "  '6BCLgz8j6j2em7XLLsXoow',\n",
       "  'Lorenz Adlon Esszimmer',\n",
       "  '€€€€',\n",
       "  67,\n",
       "  5.0,\n",
       "  '+493022611960',\n",
       "  969.3816096240975,\n",
       "  52.516109,\n",
       "  13.380014,\n",
       "  'Berlin',\n",
       "  '10117',\n",
       "  'Unter den Linden 77')]"
      ]
     },
     "execution_count": 28,
     "metadata": {},
     "output_type": "execute_result"
    },
    {
     "data": {
      "application/javascript": [
       "\n",
       "            setTimeout(function() {\n",
       "                var nbb_cell_id = 28;\n",
       "                var nbb_unformatted_code = \"# Test if everything is fine\\nq = \\\"\\\"\\\"\\n    SELECT * FROM raw_table\\n    \\\"\\\"\\\"\\ncursor.execute(q)\\ncursor.fetchmany(2)\";\n",
       "                var nbb_formatted_code = \"# Test if everything is fine\\nq = \\\"\\\"\\\"\\n    SELECT * FROM raw_table\\n    \\\"\\\"\\\"\\ncursor.execute(q)\\ncursor.fetchmany(2)\";\n",
       "                var nbb_cells = Jupyter.notebook.get_cells();\n",
       "                for (var i = 0; i < nbb_cells.length; ++i) {\n",
       "                    if (nbb_cells[i].input_prompt_number == nbb_cell_id) {\n",
       "                        if (nbb_cells[i].get_text() == nbb_unformatted_code) {\n",
       "                             nbb_cells[i].set_text(nbb_formatted_code);\n",
       "                        }\n",
       "                        break;\n",
       "                    }\n",
       "                }\n",
       "            }, 500);\n",
       "            "
      ],
      "text/plain": [
       "<IPython.core.display.Javascript object>"
      ]
     },
     "metadata": {},
     "output_type": "display_data"
    }
   ],
   "source": [
    "# Test if everything is fine\n",
    "q = \"\"\"\n",
    "    SELECT * FROM raw_table\n",
    "    \"\"\"\n",
    "cursor.execute(q)\n",
    "cursor.fetchmany(2)"
   ]
  },
  {
   "cell_type": "markdown",
   "id": "mechanical-cemetery",
   "metadata": {},
   "source": [
    "✔️ Load the data\n",
    "\n",
    "We have successfully loaded the raw data into a SQL database. The next step will be to normalize the database into its final form. Using a database manager we can commit different SQL commands and manipulate the tables easier than using python code from a jupyter notebook"
   ]
  },
  {
   "cell_type": "markdown",
   "id": "separate-channels",
   "metadata": {},
   "source": [
    "<p align='center'>\n",
    "  <img alt=\"database\" src=\"./images/database.png\">\n",
    "</p>"
   ]
  },
  {
   "cell_type": "code",
   "execution_count": null,
   "id": "surprising-ghost",
   "metadata": {},
   "outputs": [],
   "source": []
  }
 ],
 "metadata": {
  "kernelspec": {
   "display_name": "Python [conda env:root] *",
   "language": "python",
   "name": "conda-root-py"
  },
  "language_info": {
   "codemirror_mode": {
    "name": "ipython",
    "version": 3
   },
   "file_extension": ".py",
   "mimetype": "text/x-python",
   "name": "python",
   "nbconvert_exporter": "python",
   "pygments_lexer": "ipython3",
   "version": "3.8.5"
  }
 },
 "nbformat": 4,
 "nbformat_minor": 5
}
